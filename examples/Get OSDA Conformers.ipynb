{
 "cells": [
  {
   "cell_type": "markdown",
   "metadata": {},
   "source": [
    "## Notes\n",
    "Calculating all conformers for molecules can take a long time depending on how many OSDAs (typically about 12 hours for 300 molecules). This task can easily run in parallel. The easiest way to accomplish this is to make several copies of this script notebook and load in different sections of your OSDA list to each one. This code borrows heavily from Wicker et al. Beyond Rotatable Bond  Counts: Capturing 3D Conformational Flexibility in a Single Descriptor. J. Chem. Inf. Model. 2016. 10.1021/acs.jcim.6b00565"
   ]
  },
  {
   "cell_type": "code",
   "execution_count": 1,
   "metadata": {},
   "outputs": [
    {
     "name": "stdout",
     "output_type": "stream",
     "text": [
      "/home/OSDA_Generator\n"
     ]
    }
   ],
   "source": [
    "# Change to the top directory\n",
    "%cd .."
   ]
  },
  {
   "cell_type": "code",
   "execution_count": 18,
   "metadata": {},
   "outputs": [],
   "source": [
    "import numpy as np\n",
    "import pandas as pd\n",
    "import json\n",
    "import time\n",
    "import pickle\n",
    "from rdkit import Chem\n",
    "from rdkit.Chem import rdFreeSASA, Descriptors, Descriptors3D, AllChem, Draw\n",
    "from rdkit.Chem.rdForceFieldHelpers import MMFFOptimizeMolecule"
   ]
  },
  {
   "cell_type": "code",
   "execution_count": 3,
   "metadata": {},
   "outputs": [],
   "source": [
    "# load in data\n",
    "data = pd.read_excel('data/Jensen_et_al_CentralScience_OSDA_Zeolite_data.xlsx', engine='openpyxl')"
   ]
  },
  {
   "cell_type": "code",
   "execution_count": 19,
   "metadata": {},
   "outputs": [
    {
     "name": "stdout",
     "output_type": "stream",
     "text": [
      "Reading SMILES from data/generated_osdas.pickle\n",
      "21\n"
     ]
    }
   ],
   "source": [
    "# specify the SMILES strings, can specify a user-defined list, set a path to a pickle file (usually)\n",
    "# for generated smiles, or calculate from the data set\n",
    "all_smiles = []\n",
    "smiles = [] # user specified smiles\n",
    "path_to_file = '' # path to pickle file containing OSDAs, often from generated OSDAs\n",
    "if smiles:\n",
    "    print('Using user defined OSDAs')\n",
    "    for s in smiles:\n",
    "        can = Chem.MolToSmiles(Chem.MolFromSmiles(s), canonical=True)\n",
    "        if can not in all_smiles:\n",
    "            all_smiles.append(can)\n",
    "elif path_to_file != '':\n",
    "    print('Reading SMILES from', path_to_file)\n",
    "    curr = pickle.load(open(path_to_file, 'rb'))\n",
    "    for c in curr:\n",
    "        can = Chem.MolToSmiles(Chem.MolFromSmiles(c), canonical=True)\n",
    "        if can not in all_smiles:\n",
    "            all_smiles.append(can)\n",
    "else:\n",
    "    print('Using all SMILES from data set')\n",
    "    for i, row in data.iterrows():\n",
    "        if pd.isnull(row['smiles']):\n",
    "            continue\n",
    "        else:\n",
    "            curr = row['smiles'].split(' + ')\n",
    "            for smile in curr:\n",
    "                m = Chem.MolFromSmiles(smile)\n",
    "                if m is not None:\n",
    "                    can = Chem.MolToSmiles(m, canonical=True)\n",
    "                    if can not in all_smiles:\n",
    "                        all_smiles.append(can)\n",
    "print(len(all_smiles))"
   ]
  },
  {
   "cell_type": "code",
   "execution_count": 24,
   "metadata": {},
   "outputs": [],
   "source": [
    "# Specify dictionary to save conformers\n",
    "all_osda_features = dict()"
   ]
  },
  {
   "cell_type": "code",
   "execution_count": 25,
   "metadata": {},
   "outputs": [
    {
     "name": "stdout",
     "output_type": "stream",
     "text": [
      "0 CC[N+]1(C)C2CCCC1CC2\n",
      "16 16 16\n",
      "99.895\n",
      "1 C[N+]1(C)CCCC2CCCC21\n",
      "17 17 17\n",
      "101.076\n",
      "2 C[N+]1(C)CC2C3C=CC(CC3)C2C1\n",
      "18 18 18\n",
      "100.111\n",
      "3 C[N+]1(C)CCC2CCCC2C1\n",
      "14 14 14\n",
      "101.018\n",
      "4 C[N+]1(C)CC2CC3CC(C2)CC1C3\n",
      "15 15 15\n",
      "101.16\n",
      "5 C[N+](C)(C)C1C2CCCC1CCC2\n",
      "17 17 17\n",
      "102.224\n",
      "6 C[N+]1(C)CCCC2CCCCC21\n",
      "15 15 15\n",
      "98.275\n",
      "7 CC[N+]1(C)CC2CC3CC(C2)CC1C3\n",
      "18 18 18\n",
      "101.202\n",
      "8 CC[N+]1(C)CCCC(C)(C)C1\n",
      "16 16 16\n",
      "99.71\n",
      "9 CC1(C)CCC[N+](C)(C)C1\n",
      "16 16 16\n",
      "99.968\n",
      "10 C[N+](C)(C)C12CC3CC(CC(C3)C1)C2\n",
      "17 17 17\n",
      "101.053\n",
      "11 C[N+]1(C)CCCC2CCCCC2C1\n",
      "14 14 14\n",
      "102.493\n",
      "12 C[N+]12CCCCC1C1CCC(C1)C2\n",
      "15 15 15\n",
      "99.833\n",
      "13 CC1CC(C)C[N+](C)(C)C1\n",
      "14 14 14\n",
      "102.585\n",
      "14 CC1(C)C2CCC[N+](C)(C)C1C2\n",
      "19 19 19\n",
      "105.858\n",
      "15 CC[N+]1(C)CC2CCC(CC2)C1\n",
      "14 14 14\n",
      "103.507\n",
      "16 CC1CCC[N+]12CCCC(C)(C)C2\n",
      "16 16 16\n",
      "106.114\n",
      "17 CC[N+]1(C)CC2CCC(C2)C1\n",
      "16 16 16\n",
      "106.013\n",
      "18 CC1(C)CC2CC(C)(C1)C[N+]2(C)C\n",
      "15 15 15\n",
      "103.054\n",
      "19 C1CC[N+]2(C1)CC1CCC(CC1)C2\n",
      "19 19 19\n",
      "105.755\n",
      "20 CC[N+]1(C)C2CCCC1CCC2\n",
      "17 17 17\n",
      "100.801\n"
     ]
    }
   ],
   "source": [
    "# calulate the conformers\n",
    "number_of_conformers = 2000  # highest possible number of conformers\n",
    "start = time.time()\n",
    "for j, smile in enumerate(all_smiles):\n",
    "    if smile in all_osda_features.keys():\n",
    "        continue # This stops from overwriting if code gets interrupted\n",
    "    print(j, smile)\n",
    "    all_osda_features[smile] = dict()\n",
    "    all_osda_features[smile]['volumes'] = []\n",
    "    all_osda_features[smile]['energies'] = []\n",
    "    all_osda_features[smile]['whim'] = []\n",
    "    m = Chem.MolFromSmiles(s)\n",
    "    m2 = Chem.AddHs(m)\n",
    "    conformers = AllChem.EmbedMultipleConfs(m2, numConfs=number_of_conformers, pruneRmsThresh=0.5, numThreads=100)\n",
    "    optimised_and_energies = AllChem.MMFFOptimizeMoleculeConfs(m2, maxIters=600, numThreads=100, nonBondedThresh=100.0)\n",
    "    ids = []\n",
    "    all_rms = []\n",
    "    for c in conformers:\n",
    "        if optimised_and_energies[c][0] != 0:\n",
    "            continue\n",
    "        dont_add = False\n",
    "        for c2 in conformers[(c+1):]:\n",
    "            rms = AllChem.GetConformerRMS(m2, c, c2)\n",
    "            if rms < 1.0:\n",
    "                dont_add = True\n",
    "        if not dont_add:\n",
    "            ids.append(c)\n",
    "    all_osda_features[smile]['rms'] = all_rms\n",
    "    for i in ids:\n",
    "        all_osda_features[smile]['volumes'].append(AllChem.ComputeMolVolume(m2, conformers[i]))\n",
    "        all_osda_features[smile]['energies'].append(optimised_and_energies[i][1])\n",
    "        all_osda_features[smile]['whim'].append(Chem.rdMolDescriptors.CalcWHIM(m2, conformers[i]))\n",
    "    print(len(all_osda_features[smile]['volumes']),len(all_osda_features[smile]['energies']),len(all_osda_features[smile]['whim']))\n",
    "    print(round(time.time()-start,3))\n",
    "    start= time.time()"
   ]
  },
  {
   "cell_type": "code",
   "execution_count": 16,
   "metadata": {},
   "outputs": [],
   "source": [
    "# use json to save conformers\n",
    "with open('data/osda_conformers.json', 'w') as fp:\n",
    "    json.dump(all_osda_features, fp)"
   ]
  },
  {
   "cell_type": "code",
   "execution_count": null,
   "metadata": {},
   "outputs": [],
   "source": []
  }
 ],
 "metadata": {
  "kernelspec": {
   "display_name": "osda_gen",
   "language": "python",
   "name": "osda_env"
  },
  "language_info": {
   "codemirror_mode": {
    "name": "ipython",
    "version": 3
   },
   "file_extension": ".py",
   "mimetype": "text/x-python",
   "name": "python",
   "nbconvert_exporter": "python",
   "pygments_lexer": "ipython3",
   "version": "3.6.7"
  }
 },
 "nbformat": 4,
 "nbformat_minor": 4
}
