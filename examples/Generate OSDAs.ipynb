{
 "cells": [
  {
   "cell_type": "code",
   "execution_count": 1,
   "metadata": {},
   "outputs": [
    {
     "name": "stdout",
     "output_type": "stream",
     "text": [
      "/home/OSDA_Generator\n"
     ]
    }
   ],
   "source": [
    "# change working directory\n",
    "%cd .."
   ]
  },
  {
   "cell_type": "code",
   "execution_count": 2,
   "metadata": {},
   "outputs": [],
   "source": [
    "# imports\n",
    "from ddc_pub import ddc_v3 as ddc\n",
    "import pickle\n",
    "import numpy as np\n",
    "import os\n",
    "import tensorflow as tf\n",
    "from rdkit import Chem\n",
    "import pandas as pd"
   ]
  },
  {
   "cell_type": "code",
   "execution_count": 3,
   "metadata": {},
   "outputs": [],
   "source": [
    "# load in zeolite normalizer and data\n",
    "zeo_norm = pickle.load(open('models/zeolite_normalizer.pkl', 'rb'))\n",
    "data = pd.read_excel('data/Jensen_et_al_CentralScience_OSDA_Zeolite_data.xlsx', engine='openpyxl')"
   ]
  },
  {
   "cell_type": "code",
   "execution_count": 8,
   "metadata": {},
   "outputs": [
    {
     "name": "stdout",
     "output_type": "stream",
     "text": [
      "[0.5597014925373133, 0.08333333333333331, 1.0, 0.09512669725261097, 0.3793103448275862, 0.08952817905635811, 0.08952817905635811]\n"
     ]
    }
   ],
   "source": [
    "# Get zeolite feature vector\n",
    "zeolite = 'CHA'\n",
    "zeolite_vector = []\n",
    "for i, row in data.iterrows():\n",
    "    if row['Code'] == zeolite:\n",
    "        features = [row['FD'], row['max_ring_size'], row['channel_dim'], row['inc_vol'], row['accvol'], row['maxarea'], row['minarea']]\n",
    "        if any([pd.isnull(x) for x in features]):\n",
    "            continue\n",
    "        else:\n",
    "            zeolite_vector = features\n",
    "if len(zeolite_vector) != 7:\n",
    "    print('Problem', zeolite, 'not in data, Please select a zeolite in the data')\n",
    "else:\n",
    "    zeolite_vector = list(zeo_norm.transform([zeolite_vector])[0])\n",
    "    print(zeolite_vector)"
   ]
  },
  {
   "cell_type": "code",
   "execution_count": 9,
   "metadata": {},
   "outputs": [],
   "source": [
    "# Get synthesis vector\n",
    "def featurize_synthesis(syns):\n",
    "    seeds = ['seed', 'SAPO-56 seeds', 'SSZ-57', 'FAU', 'seeded with magadiite', 'seeds']\n",
    "    solvents = ['ethylene glycol', 'hexanol', '2-propanol', 'triethylene glycol', 'triglycol',\n",
    "                'polyethylene glycol', 'n-hexanol', 'glycol', 'propane-1,3-diol', 'butanol', \n",
    "                'glycerol', 'isobutylamine', 'tetraethylene glycol', '1-hexanol', \n",
    "               'sec-butanol', 'iso-butanol', 'ethylene glycol monomethyl ether', 'ethanol']\n",
    "    acids = ['H2SO4', 'acetic acid', 'oxalic acid', 'succinic acid', 'arsenic acid', 'HNO3', 'HCl',\n",
    "            'SO4']\n",
    "    frameworks = ['Co', 'Mn', 'Cu', 'Zn', 'Cd', 'Cr', 'V', 'Ce', 'Nd', 'Sn', 'Zr', 'Ni',\n",
    "                  'S', 'Sm', 'Dy', 'Y', 'La', 'Gd', 'In', 'Nb', 'Te', 'As', 'Hf', 'W',\n",
    "                 'Se']\n",
    "    common_frameworks = ['Si', 'Al', 'P', 'Ge', 'B', 'Ti', 'Ga', 'Fe']\n",
    "    cations = ['Mg', 'Rb', 'Li', 'Cs', 'Sr', 'Ba', 'Be', 'Ca']\n",
    "    common_cations = ['Na', 'K']\n",
    "    bad = ['pictures', 'need access', 'also called azepane', 'SMILES code']\n",
    "    if not syns:\n",
    "        return None\n",
    "    syn_vector = []\n",
    "    for c in common_frameworks:\n",
    "        if c in syns:\n",
    "            syn_vector.append(1)\n",
    "        else:\n",
    "            syn_vector.append(0)\n",
    "    for c in common_cations:\n",
    "        if c in syns:\n",
    "            syn_vector.append(1)\n",
    "        else:\n",
    "            syn_vector.append(0)\n",
    "    if 'F' in syns:\n",
    "        syn_vector.append(1)\n",
    "    else:\n",
    "        syn_vector.append(0)\n",
    "    frame, cat, seed, solv, acid, oth = 0,0,0,0,0,0\n",
    "    for s in syns:\n",
    "        if s in frameworks:\n",
    "            frame = 1\n",
    "        elif s in cations:\n",
    "            cat = 1\n",
    "        elif s in seeds:\n",
    "            seed = 1\n",
    "        elif s in solvents:\n",
    "            solv = 1\n",
    "        elif s in acids:\n",
    "            acid = 1\n",
    "        elif s.count(' ') < 2 and s not in bad and len(s) > 2:\n",
    "            oth = 1\n",
    "    syn_vector.extend([frame, cat, seed, solv, acid, oth])\n",
    "    return syn_vector"
   ]
  },
  {
   "cell_type": "code",
   "execution_count": 10,
   "metadata": {},
   "outputs": [
    {
     "name": "stdout",
     "output_type": "stream",
     "text": [
      "17\n",
      "[1, 1, 0, 0, 0, 0, 0, 0, 1, 0, 0, 0, 0, 0, 0, 0, 0]\n"
     ]
    }
   ],
   "source": [
    "# User defined synthesis components\n",
    "# examples include ['Si', 'Al', 'Na'] (zeolite with sodium),['Si', 'Al', 'P'](SAPO)\n",
    "# ['Si', 'Ge', 'F'] (common germanium zeotype)\n",
    "synthesis = ['Si', 'Al', 'Na']\n",
    "synthesis_vector = featurize_synthesis(synthesis)\n",
    "if synthesis_vector is None:\n",
    "    print('Problem', synthesis, 'is not valid, Please select synthesis components from the data set')\n",
    "else:\n",
    "    print(len(synthesis_vector))\n",
    "    print(synthesis_vector)"
   ]
  },
  {
   "cell_type": "code",
   "execution_count": 11,
   "metadata": {},
   "outputs": [
    {
     "name": "stdout",
     "output_type": "stream",
     "text": [
      "(1, 24)\n"
     ]
    }
   ],
   "source": [
    "# combine zeolite and synthesis vectors\n",
    "model_input = zeolite_vector+synthesis_vector\n",
    "model_input = np.reshape(np.array(model_input), (1,24))\n",
    "print(model_input.shape)"
   ]
  },
  {
   "cell_type": "code",
   "execution_count": 13,
   "metadata": {},
   "outputs": [
    {
     "name": "stdout",
     "output_type": "stream",
     "text": [
      "Initializing model in test mode.\n",
      "Loading model.\n",
      "'mol_to_latent_model' not found, setting to None.\n",
      "WARNING:tensorflow:No training configuration found in save file: the model was *not* compiled. Compile it manually.\n",
      "WARNING:tensorflow:No training configuration found in save file: the model was *not* compiled. Compile it manually.\n",
      "Loading finished in 2 seconds.\n",
      "Model: \"model_1\"\n",
      "__________________________________________________________________________________________________\n",
      "Layer (type)                    Output Shape         Param #     Connected to                     \n",
      "==================================================================================================\n",
      "Latent_Input (InputLayer)       [(None, 24)]         0                                            \n",
      "__________________________________________________________________________________________________\n",
      "Decoder_Inputs (InputLayer)     [(None, 132, 31)]    0                                            \n",
      "__________________________________________________________________________________________________\n",
      "latent_to_states_model (Model)  [(None, 256), (None, 44544       Latent_Input[0][0]               \n",
      "__________________________________________________________________________________________________\n",
      "batch_model (Model)             (None, 132, 31)      1359647     Decoder_Inputs[0][0]             \n",
      "                                                                 latent_to_states_model[1][0]     \n",
      "                                                                 latent_to_states_model[1][1]     \n",
      "                                                                 latent_to_states_model[1][2]     \n",
      "                                                                 latent_to_states_model[1][3]     \n",
      "                                                                 latent_to_states_model[1][4]     \n",
      "                                                                 latent_to_states_model[1][5]     \n",
      "==================================================================================================\n",
      "Total params: 1,404,191\n",
      "Trainable params: 1,399,583\n",
      "Non-trainable params: 4,608\n",
      "__________________________________________________________________________________________________\n",
      "None\n"
     ]
    }
   ],
   "source": [
    "# load in the pre-trained model\n",
    "model = ddc.DDC(model_name='models/OSDA_model_full')"
   ]
  },
  {
   "cell_type": "code",
   "execution_count": 14,
   "metadata": {},
   "outputs": [
    {
     "name": "stdout",
     "output_type": "stream",
     "text": [
      "0\n",
      "10\n",
      "20\n",
      "30\n",
      "40\n",
      "50\n",
      "60\n",
      "70\n",
      "80\n",
      "90\n",
      "100 100\n"
     ]
    }
   ],
   "source": [
    "# Generate the OSDAs\n",
    "number_to_generate = 100\n",
    "generated_smiles, neg_log_like = [],[]\n",
    "for i in range(number_to_generate):\n",
    "    if i%(round(number_to_generate)*0.1)==0: \n",
    "        print(i)\n",
    "    smiles, nll = model.predict(latent=model_input, temp=1)\n",
    "    generated_smiles.append(smiles)\n",
    "    neg_log_like.append(nll)\n",
    "print(len(generated_smiles), len(neg_log_like))"
   ]
  },
  {
   "cell_type": "code",
   "execution_count": 17,
   "metadata": {},
   "outputs": [],
   "source": [
    "# save all generated\n",
    "with open('data/generated_osdas.pickle', 'wb') as f:\n",
    "    pickle.dump(generated_smiles, f)\n",
    "with open('data/generated_osdas_nlls.pickle', 'wb') as f:\n",
    "    pickle.dump(neg_log_like, f)"
   ]
  },
  {
   "cell_type": "code",
   "execution_count": 20,
   "metadata": {},
   "outputs": [
    {
     "name": "stdout",
     "output_type": "stream",
     "text": [
      "21 21\n"
     ]
    }
   ],
   "source": [
    "# Get unique smiles\n",
    "unique_generated_smiles, unique_neg_log_like = [],[]\n",
    "for smile, nll in zip(generated_smiles, neg_log_like):\n",
    "    canonical = Chem.MolToSmiles(Chem.MolFromSmiles(smile), canonical=True)\n",
    "    if canonical not in unique_generated_smiles:\n",
    "        unique_generated_smiles.append(canonical)\n",
    "        unique_neg_log_like.append(canonical)\n",
    "print(len(unique_generated_smiles), len(unique_neg_log_like))"
   ]
  },
  {
   "cell_type": "code",
   "execution_count": 21,
   "metadata": {},
   "outputs": [],
   "source": [
    "# save all unique_generated\n",
    "with open('data/generated_osdas_unique.pickle', 'wb') as f:\n",
    "    pickle.dump(unique_generated_smiles, f)\n",
    "with open('data/generated_osdas_nlls_unique.pickle', 'wb') as f:\n",
    "    pickle.dump(unique_neg_log_like, f)"
   ]
  },
  {
   "cell_type": "code",
   "execution_count": null,
   "metadata": {},
   "outputs": [],
   "source": []
  }
 ],
 "metadata": {
  "kernelspec": {
   "display_name": "osda_gen",
   "language": "python",
   "name": "osda_env"
  },
  "language_info": {
   "codemirror_mode": {
    "name": "ipython",
    "version": 3
   },
   "file_extension": ".py",
   "mimetype": "text/x-python",
   "name": "python",
   "nbconvert_exporter": "python",
   "pygments_lexer": "ipython3",
   "version": "3.6.7"
  }
 },
 "nbformat": 4,
 "nbformat_minor": 4
}
